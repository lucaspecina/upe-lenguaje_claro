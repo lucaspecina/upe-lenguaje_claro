{
 "cells": [
  {
   "cell_type": "code",
   "execution_count": 1,
   "metadata": {},
   "outputs": [],
   "source": [
    "import pandas as pd\n",
    "import numpy as np\n",
    "import matplotlib.pyplot as plt\n",
    "import seaborn as sns\n",
    "import plotly.express as px"
   ]
  },
  {
   "cell_type": "markdown",
   "metadata": {},
   "source": [
    "# Lenguaje Claro - UPE\n",
    "Lucas Pecina\n",
    "\n",
    "09/01/21\n",
    "\n",
    "---\n",
    "### Objetivo\n",
    "Comparar distintos textos (legales, judiciales, etc) para ver la complejidad que tiene ese texto en cuanto a palabras dificiles (poco frecuentes en el lenguaje cotidiano).\n",
    "\n",
    "### Resumen\n",
    "El lenguaje legal/judicial suele ser complicado de entender para la gente que no se dedica a temas relacionados debido a la complejidad de las palabras utilizadas y de su gramatica. El analisis de complejidad gramatical de los textos requiere la utilizacion de tecnicas muy sofisticadas y que no dan buenos resultados, por lo tanto, descartamos este tipo de estudio por el momento.\n",
    "\n",
    "Comenzamos solo analizando las **palabras** de los textos y creamos un **indice de complejidad** que mide la cantidad y frecuencia de palabras \"complejas\", que son de poca frecuencia en el lenguaje cotidiano. \n",
    "\n",
    "No contaran para el calculo aquellas palabras que por su naturaleza tecnica juridica requiera de su uso obligatorio. Para dicha tarea, se elaborara a mano una lista de las palabras en cuestion.\n",
    "\n",
    "### Fuentes de datos\n",
    "- Textos a analizar: seran cargados como archivos de texto\n",
    "- Bolsa de palabras de frecuencia del lenguaje español\n",
    "\n",
    "### Pasos\n",
    "1. Cargar texto y preprocesarlo\n",
    " - Tokenizar las palabras\n",
    " - Limpiar errores\n",
    " - Remover stopwords\n",
    "2. Cargar bolsa de palabras\n",
    " - Armar dataframe con frecuencias\n",
    " - Calcular complejidad de palabras\n",
    "\n",
    "---\n",
    "### Indice de complejidad del lenguaje\n",
    "$$Complejidad_t = \\frac{1}{P}\\sum_p^P{Complejidad_p}$$\n",
    "\n",
    "- t = texto a analizar\n",
    "- p = lista de palabras en el texto t (pueden estar repetidas)\n",
    "- P = cantidad de palabras en el texto t (todas)\n",
    "\n",
    "$$Complejidad_p = f(FrecuenciaBolsa_p)$$\n",
    "> **DETERMINAR EL INDICE DE COMPLEJIDAD DE LAS PALABRAS**. \n",
    "Ver la distribucion de frecuencias (despues de remover stopwords). Ver si hacerlo por frecuencia de palabras o ranking.\n",
    "Puede ser el ranking o el inverso de las frecuencias.\n",
    "\n",
    "$$Complejidad_p = \\frac{1}{FrecuenciaBolsa_p}$$\n",
    "\n",
    "o\n",
    "\n",
    "$$Complejidad_p = RankingBolsa_p$$\n",
    " "
   ]
  },
  {
   "cell_type": "code",
   "execution_count": null,
   "metadata": {},
   "outputs": [],
   "source": []
  },
  {
   "cell_type": "code",
   "execution_count": null,
   "metadata": {},
   "outputs": [],
   "source": []
  },
  {
   "cell_type": "code",
   "execution_count": null,
   "metadata": {},
   "outputs": [],
   "source": []
  },
  {
   "cell_type": "code",
   "execution_count": null,
   "metadata": {},
   "outputs": [],
   "source": []
  },
  {
   "cell_type": "code",
   "execution_count": null,
   "metadata": {},
   "outputs": [],
   "source": []
  },
  {
   "cell_type": "code",
   "execution_count": null,
   "metadata": {},
   "outputs": [],
   "source": []
  },
  {
   "cell_type": "code",
   "execution_count": null,
   "metadata": {},
   "outputs": [],
   "source": []
  },
  {
   "cell_type": "code",
   "execution_count": null,
   "metadata": {},
   "outputs": [],
   "source": []
  },
  {
   "cell_type": "code",
   "execution_count": null,
   "metadata": {},
   "outputs": [],
   "source": []
  }
 ],
 "metadata": {
  "kernelspec": {
   "display_name": "Python 3",
   "language": "python",
   "name": "python3"
  },
  "language_info": {
   "codemirror_mode": {
    "name": "ipython",
    "version": 3
   },
   "file_extension": ".py",
   "mimetype": "text/x-python",
   "name": "python",
   "nbconvert_exporter": "python",
   "pygments_lexer": "ipython3",
   "version": "3.8.3"
  },
  "toc": {
   "base_numbering": 1,
   "nav_menu": {},
   "number_sections": false,
   "sideBar": true,
   "skip_h1_title": false,
   "title_cell": "Table of Contents",
   "title_sidebar": "Contents",
   "toc_cell": false,
   "toc_position": {},
   "toc_section_display": true,
   "toc_window_display": false
  }
 },
 "nbformat": 4,
 "nbformat_minor": 4
}
